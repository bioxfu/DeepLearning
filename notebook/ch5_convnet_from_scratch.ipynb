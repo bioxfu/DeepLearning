{
 "cells": [
  {
   "cell_type": "code",
   "execution_count": 1,
   "metadata": {},
   "outputs": [
    {
     "name": "stderr",
     "output_type": "stream",
     "text": [
      "Using TensorFlow backend.\n"
     ]
    }
   ],
   "source": [
    "from keras import models\n",
    "from keras import layers"
   ]
  },
  {
   "cell_type": "code",
   "execution_count": 2,
   "metadata": {},
   "outputs": [],
   "source": [
    "model = models.Sequential()\n",
    "model.add(layers.Conv2D(32, (3, 3), activation='relu', input_shape=(150, 150, 3)))\n",
    "model.add(layers.MaxPool2D((2, 2)))\n",
    "model.add(layers.Conv2D(64, (3, 3), activation='relu'))\n",
    "model.add(layers.MaxPool2D((2, 2)))\n",
    "model.add(layers.Conv2D(128, (3, 3), activation='relu'))\n",
    "model.add(layers.MaxPool2D((2, 2)))\n",
    "model.add(layers.Conv2D(128, (3, 3), activation='relu'))\n",
    "model.add(layers.MaxPool2D((2, 2)))\n",
    "model.add(layers.Flatten())\n",
    "model.add(layers.Dense(512, activation='relu'))\n",
    "model.add(layers.Dense(1, activation='sigmoid'))"
   ]
  },
  {
   "cell_type": "code",
   "execution_count": 3,
   "metadata": {},
   "outputs": [
    {
     "name": "stdout",
     "output_type": "stream",
     "text": [
      "_________________________________________________________________\n",
      "Layer (type)                 Output Shape              Param #   \n",
      "=================================================================\n",
      "conv2d_1 (Conv2D)            (None, 148, 148, 32)      896       \n",
      "_________________________________________________________________\n",
      "max_pooling2d_1 (MaxPooling2 (None, 74, 74, 32)        0         \n",
      "_________________________________________________________________\n",
      "conv2d_2 (Conv2D)            (None, 72, 72, 64)        18496     \n",
      "_________________________________________________________________\n",
      "max_pooling2d_2 (MaxPooling2 (None, 36, 36, 64)        0         \n",
      "_________________________________________________________________\n",
      "conv2d_3 (Conv2D)            (None, 34, 34, 128)       73856     \n",
      "_________________________________________________________________\n",
      "max_pooling2d_3 (MaxPooling2 (None, 17, 17, 128)       0         \n",
      "_________________________________________________________________\n",
      "conv2d_4 (Conv2D)            (None, 15, 15, 128)       147584    \n",
      "_________________________________________________________________\n",
      "max_pooling2d_4 (MaxPooling2 (None, 7, 7, 128)         0         \n",
      "_________________________________________________________________\n",
      "flatten_1 (Flatten)          (None, 6272)              0         \n",
      "_________________________________________________________________\n",
      "dense_1 (Dense)              (None, 512)               3211776   \n",
      "_________________________________________________________________\n",
      "dense_2 (Dense)              (None, 1)                 513       \n",
      "=================================================================\n",
      "Total params: 3,453,121\n",
      "Trainable params: 3,453,121\n",
      "Non-trainable params: 0\n",
      "_________________________________________________________________\n"
     ]
    }
   ],
   "source": [
    "model.summary()"
   ]
  },
  {
   "cell_type": "code",
   "execution_count": 4,
   "metadata": {},
   "outputs": [],
   "source": [
    "from keras import optimizers\n",
    "model.compile(loss='binary_crossentropy',\n",
    "              optimizer=optimizers.RMSprop(lr=1e-4), \n",
    "              metrics=['accuracy'])"
   ]
  },
  {
   "cell_type": "code",
   "execution_count": 5,
   "metadata": {},
   "outputs": [],
   "source": [
    "from keras.preprocessing.image import ImageDataGenerator"
   ]
  },
  {
   "cell_type": "code",
   "execution_count": 6,
   "metadata": {},
   "outputs": [],
   "source": [
    "train_datagen = ImageDataGenerator(rescale=1./255)\n",
    "validation_datagen = ImageDataGenerator(rescale=1./255)"
   ]
  },
  {
   "cell_type": "code",
   "execution_count": 7,
   "metadata": {},
   "outputs": [
    {
     "name": "stdout",
     "output_type": "stream",
     "text": [
      "Found 2000 images belonging to 2 classes.\n",
      "Found 1000 images belonging to 2 classes.\n"
     ]
    }
   ],
   "source": [
    "train_dir = 'cats_and_dogs_small/train'\n",
    "validation_dir = 'cats_and_dogs_small/validation'\n",
    "\n",
    "train_generator = train_datagen.flow_from_directory(train_dir,\n",
    "                                                    target_size=(150, 150), \n",
    "                                                    batch_size=20, \n",
    "                                                    class_mode='binary')\n",
    "\n",
    "validation_generator = validation_datagen.flow_from_directory(validation_dir,\n",
    "                                                              target_size=(150, 150), \n",
    "                                                              batch_size=20, \n",
    "                                                              class_mode='binary')"
   ]
  },
  {
   "cell_type": "code",
   "execution_count": 8,
   "metadata": {},
   "outputs": [
    {
     "name": "stdout",
     "output_type": "stream",
     "text": [
      "Epoch 1/30\n",
      "100/100 [==============================] - 44s 442ms/step - loss: 0.6886 - acc: 0.5410 - val_loss: 0.6681 - val_acc: 0.5870\n",
      "Epoch 2/30\n",
      "100/100 [==============================] - 21s 210ms/step - loss: 0.6565 - acc: 0.6080 - val_loss: 0.6534 - val_acc: 0.6050\n",
      "Epoch 3/30\n",
      "100/100 [==============================] - 22s 220ms/step - loss: 0.6163 - acc: 0.6680 - val_loss: 0.6109 - val_acc: 0.6670\n",
      "Epoch 4/30\n",
      "100/100 [==============================] - 22s 221ms/step - loss: 0.5794 - acc: 0.6925 - val_loss: 0.5950 - val_acc: 0.6920\n",
      "Epoch 5/30\n",
      "100/100 [==============================] - 23s 232ms/step - loss: 0.5428 - acc: 0.7320 - val_loss: 0.5714 - val_acc: 0.6990\n",
      "Epoch 6/30\n",
      "100/100 [==============================] - 21s 212ms/step - loss: 0.5147 - acc: 0.7530 - val_loss: 0.5599 - val_acc: 0.7010\n",
      "Epoch 7/30\n",
      "100/100 [==============================] - 21s 210ms/step - loss: 0.4887 - acc: 0.7685 - val_loss: 0.6073 - val_acc: 0.6950\n",
      "Epoch 8/30\n",
      "100/100 [==============================] - 21s 213ms/step - loss: 0.4579 - acc: 0.7800 - val_loss: 0.5446 - val_acc: 0.7180\n",
      "Epoch 9/30\n",
      "100/100 [==============================] - 21s 211ms/step - loss: 0.4309 - acc: 0.7955 - val_loss: 0.5454 - val_acc: 0.7200\n",
      "Epoch 10/30\n",
      "100/100 [==============================] - 22s 220ms/step - loss: 0.4143 - acc: 0.8070 - val_loss: 0.5398 - val_acc: 0.7230\n",
      "Epoch 11/30\n",
      "100/100 [==============================] - 21s 214ms/step - loss: 0.3831 - acc: 0.8285 - val_loss: 0.5534 - val_acc: 0.7270\n",
      "Epoch 12/30\n",
      "100/100 [==============================] - 22s 222ms/step - loss: 0.3536 - acc: 0.8405 - val_loss: 0.7152 - val_acc: 0.6630\n",
      "Epoch 13/30\n",
      "100/100 [==============================] - 22s 224ms/step - loss: 0.3309 - acc: 0.8625 - val_loss: 0.6786 - val_acc: 0.6930\n",
      "Epoch 14/30\n",
      "100/100 [==============================] - 20s 203ms/step - loss: 0.3082 - acc: 0.8705 - val_loss: 0.5899 - val_acc: 0.7340\n",
      "Epoch 15/30\n",
      "100/100 [==============================] - 22s 220ms/step - loss: 0.2821 - acc: 0.8815 - val_loss: 0.5407 - val_acc: 0.7580\n",
      "Epoch 16/30\n",
      "100/100 [==============================] - 22s 218ms/step - loss: 0.2597 - acc: 0.8970 - val_loss: 0.5603 - val_acc: 0.7490\n",
      "Epoch 17/30\n",
      "100/100 [==============================] - 21s 209ms/step - loss: 0.2362 - acc: 0.9030 - val_loss: 0.5858 - val_acc: 0.7450\n",
      "Epoch 18/30\n",
      "100/100 [==============================] - 22s 221ms/step - loss: 0.2118 - acc: 0.9205 - val_loss: 0.6368 - val_acc: 0.7380\n",
      "Epoch 19/30\n",
      "100/100 [==============================] - 21s 211ms/step - loss: 0.2004 - acc: 0.9255 - val_loss: 0.6379 - val_acc: 0.7320\n",
      "Epoch 20/30\n",
      "100/100 [==============================] - 21s 207ms/step - loss: 0.1710 - acc: 0.9385 - val_loss: 0.7272 - val_acc: 0.7250\n",
      "Epoch 21/30\n",
      "100/100 [==============================] - 21s 211ms/step - loss: 0.1582 - acc: 0.9445 - val_loss: 0.6765 - val_acc: 0.7430\n",
      "Epoch 22/30\n",
      "100/100 [==============================] - 21s 206ms/step - loss: 0.1379 - acc: 0.9550 - val_loss: 0.6779 - val_acc: 0.7350\n",
      "Epoch 23/30\n",
      "100/100 [==============================] - 22s 223ms/step - loss: 0.1217 - acc: 0.9605 - val_loss: 0.7482 - val_acc: 0.7390\n",
      "Epoch 24/30\n",
      "100/100 [==============================] - 22s 219ms/step - loss: 0.1061 - acc: 0.9690 - val_loss: 0.7774 - val_acc: 0.7370\n",
      "Epoch 25/30\n",
      "100/100 [==============================] - 21s 209ms/step - loss: 0.0902 - acc: 0.9745 - val_loss: 0.8000 - val_acc: 0.7380\n",
      "Epoch 26/30\n",
      "100/100 [==============================] - 21s 207ms/step - loss: 0.0861 - acc: 0.9730 - val_loss: 0.8098 - val_acc: 0.7470\n",
      "Epoch 27/30\n",
      "100/100 [==============================] - 21s 207ms/step - loss: 0.0670 - acc: 0.9820 - val_loss: 0.8059 - val_acc: 0.7490\n",
      "Epoch 28/30\n",
      "100/100 [==============================] - 21s 209ms/step - loss: 0.0645 - acc: 0.9820 - val_loss: 0.8008 - val_acc: 0.7490\n",
      "Epoch 29/30\n",
      "100/100 [==============================] - 20s 199ms/step - loss: 0.0455 - acc: 0.9895 - val_loss: 1.0073 - val_acc: 0.7230\n",
      "Epoch 30/30\n",
      "100/100 [==============================] - 24s 236ms/step - loss: 0.0415 - acc: 0.9885 - val_loss: 0.8903 - val_acc: 0.7540\n"
     ]
    }
   ],
   "source": [
    "history = model.fit_generator(train_generator, \n",
    "                              steps_per_epoch=100, \n",
    "                              epochs=30, \n",
    "                              validation_data=validation_generator, \n",
    "                              validation_steps=50)"
   ]
  },
  {
   "cell_type": "code",
   "execution_count": 9,
   "metadata": {},
   "outputs": [],
   "source": [
    "model.save('cats_and_dogs_small_1.h5')"
   ]
  },
  {
   "cell_type": "code",
   "execution_count": 10,
   "metadata": {},
   "outputs": [
    {
     "data": {
      "image/png": "[encoded data removed]",
      "text/plain": [
       "<Figure size 432x288 with 1 Axes>"
      ]
     },
     "metadata": {
      "needs_background": "light"
     },
     "output_type": "display_data"
    },
    {
     "data": {
      "image/png": "[encoded data removed]",
      "text/plain": [
       "<Figure size 432x288 with 1 Axes>"
      ]
     },
     "metadata": {
      "needs_background": "light"
     },
     "output_type": "display_data"
    }
   ],
   "source": [
    "# plotting the training and validation loss\n",
    "%matplotlib inline\n",
    "import matplotlib.pyplot as plt\n",
    "\n",
    "history_dict = history.history\n",
    "acc = history_dict['acc']\n",
    "val_acc = history_dict['val_acc']\n",
    "loss = history_dict['loss']\n",
    "val_loss = history_dict['val_loss']\n",
    "\n",
    "epochs = range(1, len(acc) + 1)\n",
    "\n",
    "plt.plot(epochs, loss, 'bo', label='Training loss')\n",
    "plt.plot(epochs, val_loss, 'b', label='Validation loss')\n",
    "plt.title('Training and validation loss')\n",
    "plt.xlabel('Epochs')\n",
    "plt.ylabel('Loss')\n",
    "plt.legend()\n",
    "plt.show()\n",
    "\n",
    "plt.plot(epochs, acc, 'bo', label='Training acc')\n",
    "plt.plot(epochs, val_acc, 'b', label='Validation acc')\n",
    "plt.title('Training and validation accuracy')\n",
    "plt.xlabel('Epochs')\n",
    "plt.ylabel('Accuracy')\n",
    "plt.legend()\n",
    "plt.show()"
   ]
  },
  {
   "cell_type": "code",
   "execution_count": null,
   "metadata": {},
   "outputs": [],
   "source": []
  }
 ],
 "metadata": {
  "kernelspec": {
   "display_name": "Python 2",
   "language": "python",
   "name": "python2"
  },
  "language_info": {
   "codemirror_mode": {
    "name": "ipython",
    "version": 2
   },
   "file_extension": ".py",
   "mimetype": "text/x-python",
   "name": "python",
   "nbconvert_exporter": "python",
   "pygments_lexer": "ipython2",
   "version": "2.7.12"
  }
 },
 "nbformat": 4,
 "nbformat_minor": 2
}
