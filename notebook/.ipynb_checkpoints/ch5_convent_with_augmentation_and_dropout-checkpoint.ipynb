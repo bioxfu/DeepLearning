{
 "cells": [
  {
   "cell_type": "code",
   "execution_count": 1,
   "metadata": {},
   "outputs": [
    {
     "name": "stderr",
     "output_type": "stream",
     "text": [
      "Using TensorFlow backend.\n"
     ]
    }
   ],
   "source": [
    "from keras import models\n",
    "from keras import layers"
   ]
  },
  {
   "cell_type": "code",
   "execution_count": 2,
   "metadata": {},
   "outputs": [],
   "source": [
    "model = models.Sequential()\n",
    "model.add(layers.Conv2D(32, (3, 3), activation='relu', input_shape=(150, 150, 3)))\n",
    "model.add(layers.MaxPool2D((2, 2)))\n",
    "model.add(layers.Conv2D(64, (3, 3), activation='relu'))\n",
    "model.add(layers.MaxPool2D((2, 2)))\n",
    "model.add(layers.Conv2D(128, (3, 3), activation='relu'))\n",
    "model.add(layers.MaxPool2D((2, 2)))\n",
    "model.add(layers.Conv2D(128, (3, 3), activation='relu'))\n",
    "model.add(layers.MaxPool2D((2, 2)))\n",
    "model.add(layers.Flatten())\n",
    "model.add(layers.Dropout(0.5))\n",
    "model.add(layers.Dense(512, activation='relu'))\n",
    "model.add(layers.Dense(1, activation='sigmoid'))"
   ]
  },
  {
   "cell_type": "code",
   "execution_count": 3,
   "metadata": {},
   "outputs": [
    {
     "name": "stdout",
     "output_type": "stream",
     "text": [
      "_________________________________________________________________\n",
      "Layer (type)                 Output Shape              Param #   \n",
      "=================================================================\n",
      "conv2d_1 (Conv2D)            (None, 148, 148, 32)      896       \n",
      "_________________________________________________________________\n",
      "max_pooling2d_1 (MaxPooling2 (None, 74, 74, 32)        0         \n",
      "_________________________________________________________________\n",
      "conv2d_2 (Conv2D)            (None, 72, 72, 64)        18496     \n",
      "_________________________________________________________________\n",
      "max_pooling2d_2 (MaxPooling2 (None, 36, 36, 64)        0         \n",
      "_________________________________________________________________\n",
      "conv2d_3 (Conv2D)            (None, 34, 34, 128)       73856     \n",
      "_________________________________________________________________\n",
      "max_pooling2d_3 (MaxPooling2 (None, 17, 17, 128)       0         \n",
      "_________________________________________________________________\n",
      "conv2d_4 (Conv2D)            (None, 15, 15, 128)       147584    \n",
      "_________________________________________________________________\n",
      "max_pooling2d_4 (MaxPooling2 (None, 7, 7, 128)         0         \n",
      "_________________________________________________________________\n",
      "flatten_1 (Flatten)          (None, 6272)              0         \n",
      "_________________________________________________________________\n",
      "dropout_1 (Dropout)          (None, 6272)              0         \n",
      "_________________________________________________________________\n",
      "dense_1 (Dense)              (None, 512)               3211776   \n",
      "_________________________________________________________________\n",
      "dense_2 (Dense)              (None, 1)                 513       \n",
      "=================================================================\n",
      "Total params: 3,453,121\n",
      "Trainable params: 3,453,121\n",
      "Non-trainable params: 0\n",
      "_________________________________________________________________\n"
     ]
    }
   ],
   "source": [
    "model.summary()"
   ]
  },
  {
   "cell_type": "code",
   "execution_count": 4,
   "metadata": {},
   "outputs": [],
   "source": [
    "from keras import optimizers\n",
    "model.compile(loss='binary_crossentropy', optimizer=optimizers.RMSprop(lr=1e-4), metrics=['accuracy'])"
   ]
  },
  {
   "cell_type": "code",
   "execution_count": 5,
   "metadata": {},
   "outputs": [],
   "source": [
    "from keras.preprocessing.image import ImageDataGenerator"
   ]
  },
  {
   "cell_type": "code",
   "execution_count": 6,
   "metadata": {},
   "outputs": [],
   "source": [
    "train_datagen = ImageDataGenerator(rescale=1./255,\n",
    "                                   rotation_range=40, \n",
    "                                   width_shift_range=0.2,\n",
    "                                   height_shift_range=0.2,\n",
    "                                   shear_range=0.2,\n",
    "                                   zoom_range=0.2,\n",
    "                                   horizontal_flip=True,\n",
    "                                   fill_mode='nearest'\n",
    "                                  )\n",
    "validation_datagen = ImageDataGenerator(rescale=1./255)"
   ]
  },
  {
   "cell_type": "code",
   "execution_count": 7,
   "metadata": {},
   "outputs": [
    {
     "name": "stdout",
     "output_type": "stream",
     "text": [
      "Found 2000 images belonging to 2 classes.\n",
      "Found 1000 images belonging to 2 classes.\n"
     ]
    }
   ],
   "source": [
    "train_dir = 'cats_and_dogs_small/train'\n",
    "validation_dir = 'cats_and_dogs_small/validation'\n",
    "\n",
    "train_generator = train_datagen.flow_from_directory(train_dir,\n",
    "                                                    target_size=(150, 150), \n",
    "                                                    batch_size=32, \n",
    "                                                    class_mode='binary')\n",
    "\n",
    "validation_generator = validation_datagen.flow_from_directory(validation_dir,\n",
    "                                                              target_size=(150, 150), \n",
    "                                                              batch_size=32, \n",
    "                                                              class_mode='binary')"
   ]
  },
  {
   "cell_type": "code",
   "execution_count": 8,
   "metadata": {},
   "outputs": [
    {
     "name": "stdout",
     "output_type": "stream",
     "text": [
      "Epoch 1/30\n",
      "100/100 [==============================] - 56s 560ms/step - loss: 0.6945 - acc: 0.5131 - val_loss: 0.6879 - val_acc: 0.5197\n",
      "Epoch 2/30\n",
      "100/100 [==============================] - 50s 501ms/step - loss: 0.6806 - acc: 0.5675 - val_loss: 0.6581 - val_acc: 0.6108\n",
      "Epoch 3/30\n",
      "100/100 [==============================] - 52s 522ms/step - loss: 0.6710 - acc: 0.5856 - val_loss: 0.6618 - val_acc: 0.6079\n",
      "Epoch 4/30\n",
      "100/100 [==============================] - 48s 484ms/step - loss: 0.6552 - acc: 0.6072 - val_loss: 0.6566 - val_acc: 0.6231\n",
      "Epoch 5/30\n",
      "100/100 [==============================] - 53s 535ms/step - loss: 0.6451 - acc: 0.6231 - val_loss: 0.6151 - val_acc: 0.6593\n",
      "Epoch 6/30\n",
      "100/100 [==============================] - 54s 537ms/step - loss: 0.6295 - acc: 0.6453 - val_loss: 0.6327 - val_acc: 0.6218\n",
      "Epoch 7/30\n",
      "100/100 [==============================] - 50s 497ms/step - loss: 0.6138 - acc: 0.6715 - val_loss: 0.5748 - val_acc: 0.7043\n",
      "Epoch 8/30\n",
      "100/100 [==============================] - 51s 505ms/step - loss: 0.6036 - acc: 0.6681 - val_loss: 0.6730 - val_acc: 0.6140\n",
      "Epoch 9/30\n",
      "100/100 [==============================] - 52s 524ms/step - loss: 0.6045 - acc: 0.6769 - val_loss: 0.5755 - val_acc: 0.6843\n",
      "Epoch 10/30\n",
      "100/100 [==============================] - 50s 505ms/step - loss: 0.5927 - acc: 0.6819 - val_loss: 0.5451 - val_acc: 0.7246\n",
      "Epoch 11/30\n",
      "100/100 [==============================] - 48s 480ms/step - loss: 0.5802 - acc: 0.7013 - val_loss: 0.6454 - val_acc: 0.6205\n",
      "Epoch 12/30\n",
      "100/100 [==============================] - 48s 484ms/step - loss: 0.5778 - acc: 0.6925 - val_loss: 0.5257 - val_acc: 0.7297\n",
      "Epoch 13/30\n",
      "100/100 [==============================] - 50s 501ms/step - loss: 0.5619 - acc: 0.7169 - val_loss: 0.5542 - val_acc: 0.7101\n",
      "Epoch 14/30\n",
      "100/100 [==============================] - 53s 533ms/step - loss: 0.5691 - acc: 0.6981 - val_loss: 0.5750 - val_acc: 0.6846\n",
      "Epoch 15/30\n",
      "100/100 [==============================] - 51s 513ms/step - loss: 0.5608 - acc: 0.7053 - val_loss: 0.5377 - val_acc: 0.7197\n",
      "Epoch 16/30\n",
      "100/100 [==============================] - 53s 526ms/step - loss: 0.5443 - acc: 0.7162 - val_loss: 0.5006 - val_acc: 0.7378\n",
      "Epoch 17/30\n",
      "100/100 [==============================] - 52s 517ms/step - loss: 0.5484 - acc: 0.7166 - val_loss: 0.5333 - val_acc: 0.7246\n",
      "Epoch 18/30\n",
      "100/100 [==============================] - 51s 507ms/step - loss: 0.5346 - acc: 0.7288 - val_loss: 0.4994 - val_acc: 0.7461\n",
      "Epoch 19/30\n",
      "100/100 [==============================] - 49s 493ms/step - loss: 0.5319 - acc: 0.7303 - val_loss: 0.4850 - val_acc: 0.7462\n",
      "Epoch 20/30\n",
      "100/100 [==============================] - 53s 529ms/step - loss: 0.5295 - acc: 0.7272 - val_loss: 0.4878 - val_acc: 0.7597\n",
      "Epoch 21/30\n",
      "100/100 [==============================] - 50s 503ms/step - loss: 0.5193 - acc: 0.7381 - val_loss: 0.5126 - val_acc: 0.7322\n",
      "Epoch 22/30\n",
      "100/100 [==============================] - 50s 502ms/step - loss: 0.5066 - acc: 0.7512 - val_loss: 0.5293 - val_acc: 0.7371\n",
      "Epoch 23/30\n",
      "100/100 [==============================] - 53s 529ms/step - loss: 0.5099 - acc: 0.7497 - val_loss: 0.4895 - val_acc: 0.7513\n",
      "Epoch 24/30\n",
      "100/100 [==============================] - 49s 487ms/step - loss: 0.5135 - acc: 0.7494 - val_loss: 0.4749 - val_acc: 0.7629\n",
      "Epoch 25/30\n",
      "100/100 [==============================] - 50s 503ms/step - loss: 0.5067 - acc: 0.7531 - val_loss: 0.4769 - val_acc: 0.7648\n",
      "Epoch 26/30\n",
      "100/100 [==============================] - 53s 526ms/step - loss: 0.5046 - acc: 0.7525 - val_loss: 0.4619 - val_acc: 0.7798\n",
      "Epoch 27/30\n",
      "100/100 [==============================] - 51s 508ms/step - loss: 0.5029 - acc: 0.7478 - val_loss: 0.4565 - val_acc: 0.7790\n",
      "Epoch 28/30\n",
      "100/100 [==============================] - 50s 496ms/step - loss: 0.5033 - acc: 0.7478 - val_loss: 0.4739 - val_acc: 0.7633\n",
      "Epoch 29/30\n",
      "100/100 [==============================] - 49s 495ms/step - loss: 0.5010 - acc: 0.7575 - val_loss: 0.5013 - val_acc: 0.7513\n",
      "Epoch 30/30\n",
      "100/100 [==============================] - 48s 483ms/step - loss: 0.4856 - acc: 0.7641 - val_loss: 0.4667 - val_acc: 0.7716\n"
     ]
    }
   ],
   "source": [
    "history = model.fit_generator(train_generator, \n",
    "                              steps_per_epoch=100, \n",
    "                              epochs=30, \n",
    "                              validation_data=validation_generator, \n",
    "                              validation_steps=50)"
   ]
  },
  {
   "cell_type": "code",
   "execution_count": 9,
   "metadata": {},
   "outputs": [],
   "source": [
    "model.save('cats_and_dogs_small_2.h5')"
   ]
  },
  {
   "cell_type": "code",
   "execution_count": 10,
   "metadata": {},
   "outputs": [
    {
     "data": {
      "image/png": "[encoded data removed]",
      "text/plain": [
       "<Figure size 432x288 with 1 Axes>"
      ]
     },
     "metadata": {
      "needs_background": "light"
     },
     "output_type": "display_data"
    },
    {
     "data": {
      "image/png": "[encoded data removed]",
      "text/plain": [
       "<Figure size 432x288 with 1 Axes>"
      ]
     },
     "metadata": {
      "needs_background": "light"
     },
     "output_type": "display_data"
    }
   ],
   "source": [
    "# plotting the training and validation loss\n",
    "%matplotlib inline\n",
    "import matplotlib.pyplot as plt\n",
    "\n",
    "history_dict = history.history\n",
    "acc = history_dict['acc']\n",
    "val_acc = history_dict['val_acc']\n",
    "loss = history_dict['loss']\n",
    "val_loss = history_dict['val_loss']\n",
    "\n",
    "epochs = range(1, len(acc) + 1)\n",
    "\n",
    "plt.plot(epochs, loss, 'bo', label='Training loss')\n",
    "plt.plot(epochs, val_loss, 'b', label='Validation loss')\n",
    "plt.title('Training and validation loss')\n",
    "plt.xlabel('Epochs')\n",
    "plt.ylabel('Loss')\n",
    "plt.legend()\n",
    "plt.show()\n",
    "\n",
    "plt.plot(epochs, acc, 'bo', label='Training acc')\n",
    "plt.plot(epochs, val_acc, 'b', label='Validation acc')\n",
    "plt.title('Training and validation accuracy')\n",
    "plt.xlabel('Epochs')\n",
    "plt.ylabel('Accuracy')\n",
    "plt.legend()\n",
    "plt.show()"
   ]
  },
  {
   "cell_type": "code",
   "execution_count": null,
   "metadata": {},
   "outputs": [],
   "source": []
  }
 ],
 "metadata": {
  "kernelspec": {
   "display_name": "Python 2",
   "language": "python",
   "name": "python2"
  },
  "language_info": {
   "codemirror_mode": {
    "name": "ipython",
    "version": 2
   },
   "file_extension": ".py",
   "mimetype": "text/x-python",
   "name": "python",
   "nbconvert_exporter": "python",
   "pygments_lexer": "ipython2",
   "version": "2.7.12"
  }
 },
 "nbformat": 4,
 "nbformat_minor": 2
}
