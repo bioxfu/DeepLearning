{
 "cells": [
  {
   "cell_type": "code",
   "execution_count": 3,
   "metadata": {},
   "outputs": [
    {
     "name": "stdout",
     "output_type": "stream",
     "text": [
      "Downloading data from https://github.com/fchollet/deep-learning-models/releases/download/v0.1/vgg16_weights_tf_dim_ordering_tf_kernels_notop.h5\n",
      "58892288/58889256 [==============================] - 18s 0us/step\n",
      "58900480/58889256 [==============================] - 18s 0us/step\n"
     ]
    }
   ],
   "source": [
    "# Instantiating the VGG16 convolutional base\n",
    "from keras.applications import VGG16\n",
    "conv_base = VGG16(weights='imagenet',\n",
    "                 include_top=False,\n",
    "                 input_shape=(150, 150, 3))"
   ]
  },
  {
   "cell_type": "code",
   "execution_count": 4,
   "metadata": {},
   "outputs": [
    {
     "name": "stdout",
     "output_type": "stream",
     "text": [
      "_________________________________________________________________\n",
      "Layer (type)                 Output Shape              Param #   \n",
      "=================================================================\n",
      "input_2 (InputLayer)         (None, 150, 150, 3)       0         \n",
      "_________________________________________________________________\n",
      "block1_conv1 (Conv2D)        (None, 150, 150, 64)      1792      \n",
      "_________________________________________________________________\n",
      "block1_conv2 (Conv2D)        (None, 150, 150, 64)      36928     \n",
      "_________________________________________________________________\n",
      "block1_pool (MaxPooling2D)   (None, 75, 75, 64)        0         \n",
      "_________________________________________________________________\n",
      "block2_conv1 (Conv2D)        (None, 75, 75, 128)       73856     \n",
      "_________________________________________________________________\n",
      "block2_conv2 (Conv2D)        (None, 75, 75, 128)       147584    \n",
      "_________________________________________________________________\n",
      "block2_pool (MaxPooling2D)   (None, 37, 37, 128)       0         \n",
      "_________________________________________________________________\n",
      "block3_conv1 (Conv2D)        (None, 37, 37, 256)       295168    \n",
      "_________________________________________________________________\n",
      "block3_conv2 (Conv2D)        (None, 37, 37, 256)       590080    \n",
      "_________________________________________________________________\n",
      "block3_conv3 (Conv2D)        (None, 37, 37, 256)       590080    \n",
      "_________________________________________________________________\n",
      "block3_pool (MaxPooling2D)   (None, 18, 18, 256)       0         \n",
      "_________________________________________________________________\n",
      "block4_conv1 (Conv2D)        (None, 18, 18, 512)       1180160   \n",
      "_________________________________________________________________\n",
      "block4_conv2 (Conv2D)        (None, 18, 18, 512)       2359808   \n",
      "_________________________________________________________________\n",
      "block4_conv3 (Conv2D)        (None, 18, 18, 512)       2359808   \n",
      "_________________________________________________________________\n",
      "block4_pool (MaxPooling2D)   (None, 9, 9, 512)         0         \n",
      "_________________________________________________________________\n",
      "block5_conv1 (Conv2D)        (None, 9, 9, 512)         2359808   \n",
      "_________________________________________________________________\n",
      "block5_conv2 (Conv2D)        (None, 9, 9, 512)         2359808   \n",
      "_________________________________________________________________\n",
      "block5_conv3 (Conv2D)        (None, 9, 9, 512)         2359808   \n",
      "_________________________________________________________________\n",
      "block5_pool (MaxPooling2D)   (None, 4, 4, 512)         0         \n",
      "=================================================================\n",
      "Total params: 14,714,688\n",
      "Trainable params: 14,714,688\n",
      "Non-trainable params: 0\n",
      "_________________________________________________________________\n"
     ]
    }
   ],
   "source": [
    "conv_base.summary()"
   ]
  },
  {
   "cell_type": "code",
   "execution_count": 5,
   "metadata": {},
   "outputs": [],
   "source": [
    "from keras import models\n",
    "from keras import layers"
   ]
  },
  {
   "cell_type": "code",
   "execution_count": 6,
   "metadata": {},
   "outputs": [],
   "source": [
    "model = models.Sequential()\n",
    "model.add(conv_base)\n",
    "model.add(layers.Flatten())\n",
    "model.add(layers.Dense(256, activation='relu'))\n",
    "model.add(layers.Dense(1, activation='sigmoid'))"
   ]
  },
  {
   "cell_type": "code",
   "execution_count": 7,
   "metadata": {},
   "outputs": [
    {
     "name": "stdout",
     "output_type": "stream",
     "text": [
      "_________________________________________________________________\n",
      "Layer (type)                 Output Shape              Param #   \n",
      "=================================================================\n",
      "vgg16 (Model)                (None, 4, 4, 512)         14714688  \n",
      "_________________________________________________________________\n",
      "flatten_1 (Flatten)          (None, 8192)              0         \n",
      "_________________________________________________________________\n",
      "dense_1 (Dense)              (None, 256)               2097408   \n",
      "_________________________________________________________________\n",
      "dense_2 (Dense)              (None, 1)                 257       \n",
      "=================================================================\n",
      "Total params: 16,812,353\n",
      "Trainable params: 16,812,353\n",
      "Non-trainable params: 0\n",
      "_________________________________________________________________\n"
     ]
    }
   ],
   "source": [
    "model.summary()"
   ]
  },
  {
   "cell_type": "code",
   "execution_count": 8,
   "metadata": {},
   "outputs": [],
   "source": [
    "from keras.preprocessing.image import ImageDataGenerator"
   ]
  },
  {
   "cell_type": "code",
   "execution_count": 25,
   "metadata": {},
   "outputs": [],
   "source": [
    "train_datagen = ImageDataGenerator(rescale=1./255,\n",
    "                                   rotation_range=40, \n",
    "                                   width_shift_range=0.2,\n",
    "                                   height_shift_range=0.2,\n",
    "                                   shear_range=0.2,\n",
    "                                   zoom_range=0.2,\n",
    "                                   horizontal_flip=True,\n",
    "                                   fill_mode='nearest'\n",
    "                                  )\n",
    "validation_datagen = ImageDataGenerator(rescale=1./255)\n",
    "test_datagen = ImageDataGenerator(rescale=1./255)"
   ]
  },
  {
   "cell_type": "code",
   "execution_count": 26,
   "metadata": {},
   "outputs": [
    {
     "name": "stdout",
     "output_type": "stream",
     "text": [
      "Found 2000 images belonging to 2 classes.\n",
      "Found 1000 images belonging to 2 classes.\n",
      "Found 1000 images belonging to 2 classes.\n"
     ]
    }
   ],
   "source": [
    "train_dir = 'cats_and_dogs_small/train'\n",
    "validation_dir = 'cats_and_dogs_small/validation'\n",
    "test_dir = 'cats_and_dogs_small/test'\n",
    "\n",
    "train_generator = train_datagen.flow_from_directory(train_dir,\n",
    "                                                    target_size=(150, 150), \n",
    "                                                    batch_size=32, \n",
    "                                                    class_mode='binary')\n",
    "\n",
    "validation_generator = validation_datagen.flow_from_directory(validation_dir,\n",
    "                                                              target_size=(150, 150), \n",
    "                                                              batch_size=32, \n",
    "                                                              class_mode='binary')\n",
    "\n",
    "test_generator = test_datagen.flow_from_directory(test_dir,\n",
    "                                                  target_size=(150, 150), \n",
    "                                                  batch_size=20, \n",
    "                                                  class_mode='binary')\n"
   ]
  },
  {
   "cell_type": "code",
   "execution_count": 11,
   "metadata": {},
   "outputs": [],
   "source": [
    "from keras import optimizers\n",
    "conv_base.trainable = False\n",
    "model.compile(loss='binary_crossentropy',\n",
    "              optimizer=optimizers.RMSprop(lr=1e-4),\n",
    "              metrics=['accuracy'])"
   ]
  },
  {
   "cell_type": "code",
   "execution_count": 12,
   "metadata": {},
   "outputs": [
    {
     "data": {
      "text/plain": [
       "[<tf.Variable 'dense_1/kernel:0' shape=(8192, 256) dtype=float32_ref>,\n",
       " <tf.Variable 'dense_1/bias:0' shape=(256,) dtype=float32_ref>,\n",
       " <tf.Variable 'dense_2/kernel:0' shape=(256, 1) dtype=float32_ref>,\n",
       " <tf.Variable 'dense_2/bias:0' shape=(1,) dtype=float32_ref>]"
      ]
     },
     "execution_count": 12,
     "metadata": {},
     "output_type": "execute_result"
    }
   ],
   "source": [
    "model.trainable_weights"
   ]
  },
  {
   "cell_type": "code",
   "execution_count": 13,
   "metadata": {},
   "outputs": [
    {
     "name": "stdout",
     "output_type": "stream",
     "text": [
      "Epoch 1/30\n",
      "100/100 [==============================] - 57s 568ms/step - loss: 0.5267 - acc: 0.7266 - val_loss: 0.3237 - val_acc: 0.8604\n",
      "Epoch 2/30\n",
      "100/100 [==============================] - 52s 520ms/step - loss: 0.3945 - acc: 0.8141 - val_loss: 0.2781 - val_acc: 0.8892\n",
      "Epoch 3/30\n",
      "100/100 [==============================] - 53s 528ms/step - loss: 0.3664 - acc: 0.8356 - val_loss: 0.2618 - val_acc: 0.8890\n",
      "Epoch 4/30\n",
      "100/100 [==============================] - 50s 504ms/step - loss: 0.3624 - acc: 0.8331 - val_loss: 0.2554 - val_acc: 0.8892\n",
      "Epoch 5/30\n",
      "100/100 [==============================] - 51s 513ms/step - loss: 0.3331 - acc: 0.8481 - val_loss: 0.2494 - val_acc: 0.8972\n",
      "Epoch 6/30\n",
      "100/100 [==============================] - 52s 523ms/step - loss: 0.3234 - acc: 0.8578 - val_loss: 0.3069 - val_acc: 0.8698\n",
      "Epoch 7/30\n",
      "100/100 [==============================] - 49s 495ms/step - loss: 0.3210 - acc: 0.8569 - val_loss: 0.2381 - val_acc: 0.9016\n",
      "Epoch 8/30\n",
      "100/100 [==============================] - 53s 527ms/step - loss: 0.3095 - acc: 0.8650 - val_loss: 0.2388 - val_acc: 0.9008\n",
      "Epoch 9/30\n",
      "100/100 [==============================] - 53s 534ms/step - loss: 0.3138 - acc: 0.8588 - val_loss: 0.2765 - val_acc: 0.8808\n",
      "Epoch 10/30\n",
      "100/100 [==============================] - 53s 526ms/step - loss: 0.3035 - acc: 0.8697 - val_loss: 0.2340 - val_acc: 0.9042\n",
      "Epoch 11/30\n",
      "100/100 [==============================] - 53s 529ms/step - loss: 0.2905 - acc: 0.8666 - val_loss: 0.2419 - val_acc: 0.9091\n",
      "Epoch 12/30\n",
      "100/100 [==============================] - 50s 500ms/step - loss: 0.2842 - acc: 0.8772 - val_loss: 0.2540 - val_acc: 0.8978\n",
      "Epoch 13/30\n",
      "100/100 [==============================] - 51s 512ms/step - loss: 0.2952 - acc: 0.8691 - val_loss: 0.2289 - val_acc: 0.9143\n",
      "Epoch 14/30\n",
      "100/100 [==============================] - 50s 498ms/step - loss: 0.2858 - acc: 0.8744 - val_loss: 0.2432 - val_acc: 0.9023\n",
      "Epoch 15/30\n",
      "100/100 [==============================] - 53s 534ms/step - loss: 0.2833 - acc: 0.8725 - val_loss: 0.2578 - val_acc: 0.8976\n",
      "Epoch 16/30\n",
      "100/100 [==============================] - 51s 512ms/step - loss: 0.2681 - acc: 0.8847 - val_loss: 0.2735 - val_acc: 0.8834\n",
      "Epoch 17/30\n",
      "100/100 [==============================] - 52s 518ms/step - loss: 0.2640 - acc: 0.8934 - val_loss: 0.2571 - val_acc: 0.8978\n",
      "Epoch 18/30\n",
      "100/100 [==============================] - 52s 516ms/step - loss: 0.2657 - acc: 0.8866 - val_loss: 0.2529 - val_acc: 0.8924\n",
      "Epoch 19/30\n",
      "100/100 [==============================] - 49s 494ms/step - loss: 0.2624 - acc: 0.8841 - val_loss: 0.2384 - val_acc: 0.9048\n",
      "Epoch 20/30\n",
      "100/100 [==============================] - 52s 520ms/step - loss: 0.2587 - acc: 0.8853 - val_loss: 0.2537 - val_acc: 0.9117\n",
      "Epoch 21/30\n",
      "100/100 [==============================] - 53s 530ms/step - loss: 0.2580 - acc: 0.8869 - val_loss: 0.2405 - val_acc: 0.8940\n",
      "Epoch 22/30\n",
      "100/100 [==============================] - 53s 529ms/step - loss: 0.2528 - acc: 0.8856 - val_loss: 0.2501 - val_acc: 0.9046\n",
      "Epoch 23/30\n",
      "100/100 [==============================] - 54s 542ms/step - loss: 0.2557 - acc: 0.8869 - val_loss: 0.2422 - val_acc: 0.8972\n",
      "Epoch 24/30\n",
      "100/100 [==============================] - 51s 511ms/step - loss: 0.2410 - acc: 0.8906 - val_loss: 0.2578 - val_acc: 0.9059\n",
      "Epoch 25/30\n",
      "100/100 [==============================] - 49s 494ms/step - loss: 0.2516 - acc: 0.8909 - val_loss: 0.2580 - val_acc: 0.9014\n",
      "Epoch 26/30\n",
      "100/100 [==============================] - 50s 500ms/step - loss: 0.2503 - acc: 0.8922 - val_loss: 0.2475 - val_acc: 0.8991\n",
      "Epoch 27/30\n",
      "100/100 [==============================] - 52s 520ms/step - loss: 0.2315 - acc: 0.9006 - val_loss: 0.2834 - val_acc: 0.8905\n",
      "Epoch 28/30\n",
      "100/100 [==============================] - 49s 491ms/step - loss: 0.2333 - acc: 0.8994 - val_loss: 0.2901 - val_acc: 0.8858\n",
      "Epoch 29/30\n",
      "100/100 [==============================] - 51s 514ms/step - loss: 0.2309 - acc: 0.9037 - val_loss: 0.2607 - val_acc: 0.9021\n",
      "Epoch 30/30\n",
      "100/100 [==============================] - 52s 521ms/step - loss: 0.2320 - acc: 0.8975 - val_loss: 0.2471 - val_acc: 0.9055\n"
     ]
    }
   ],
   "source": [
    "history = model.fit_generator(train_generator, \n",
    "                              steps_per_epoch=100, \n",
    "                              epochs=30, \n",
    "                              validation_data=validation_generator, \n",
    "                              validation_steps=50)"
   ]
  },
  {
   "cell_type": "code",
   "execution_count": 16,
   "metadata": {},
   "outputs": [
    {
     "data": {
      "image/png": "[encoded data removed]",
      "text/plain": [
       "<Figure size 432x288 with 1 Axes>"
      ]
     },
     "metadata": {
      "needs_background": "light"
     },
     "output_type": "display_data"
    },
    {
     "data": {
      "image/png": "[encoded data removed]",
      "text/plain": [
       "<Figure size 432x288 with 1 Axes>"
      ]
     },
     "metadata": {
      "needs_background": "light"
     },
     "output_type": "display_data"
    }
   ],
   "source": [
    "# plotting the training and validation loss\n",
    "%matplotlib inline\n",
    "import matplotlib.pyplot as plt\n",
    "\n",
    "history_dict = history.history\n",
    "acc = history_dict['acc']\n",
    "val_acc = history_dict['val_acc']\n",
    "loss = history_dict['loss']\n",
    "val_loss = history_dict['val_loss']\n",
    "\n",
    "epochs = range(1, len(acc) + 1)\n",
    "\n",
    "plt.plot(epochs, loss, 'bo', label='Training loss')\n",
    "plt.plot(epochs, val_loss, 'b', label='Validation loss')\n",
    "plt.title('Training and validation loss')\n",
    "plt.xlabel('Epochs')\n",
    "plt.ylabel('Loss')\n",
    "plt.legend()\n",
    "plt.show()\n",
    "\n",
    "plt.plot(epochs, acc, 'bo', label='Training acc')\n",
    "plt.plot(epochs, val_acc, 'b', label='Validation acc')\n",
    "plt.title('Training and validation accuracy')\n",
    "plt.xlabel('Epochs')\n",
    "plt.ylabel('Accuracy')\n",
    "plt.legend()\n",
    "plt.show()"
   ]
  },
  {
   "cell_type": "code",
   "execution_count": 20,
   "metadata": {},
   "outputs": [],
   "source": [
    "# freezing all layers up to a specific one\n",
    "conv_base.trainable = True\n",
    "\n",
    "set_trainable = False\n",
    "for layer in conv_base.layers:\n",
    "    if layer.name == 'block5_conv1':\n",
    "        set_trainable = True\n",
    "    if set_trainable:\n",
    "        layer.trainable = True\n",
    "    else:\n",
    "        layer.trainable = False"
   ]
  },
  {
   "cell_type": "code",
   "execution_count": 21,
   "metadata": {},
   "outputs": [],
   "source": [
    "model.compile(loss='binary_crossentropy',\n",
    "              optimizer=optimizers.RMSprop(lr=1e-5),\n",
    "              metrics=['accuracy'])"
   ]
  },
  {
   "cell_type": "code",
   "execution_count": 22,
   "metadata": {},
   "outputs": [
    {
     "name": "stdout",
     "output_type": "stream",
     "text": [
      "Epoch 1/100\n",
      "100/100 [==============================] - 57s 575ms/step - loss: 0.2240 - acc: 0.9037 - val_loss: 0.2684 - val_acc: 0.9079\n",
      "Epoch 2/100\n",
      "100/100 [==============================] - 52s 523ms/step - loss: 0.1965 - acc: 0.9200 - val_loss: 0.2465 - val_acc: 0.9149\n",
      "Epoch 3/100\n",
      "100/100 [==============================] - 51s 513ms/step - loss: 0.1900 - acc: 0.9219 - val_loss: 0.2318 - val_acc: 0.9194\n",
      "Epoch 4/100\n",
      "100/100 [==============================] - 51s 509ms/step - loss: 0.1721 - acc: 0.9309 - val_loss: 0.2233 - val_acc: 0.9240\n",
      "Epoch 5/100\n",
      "100/100 [==============================] - 53s 533ms/step - loss: 0.1532 - acc: 0.9372 - val_loss: 0.2553 - val_acc: 0.9029\n",
      "Epoch 6/100\n",
      "100/100 [==============================] - 52s 517ms/step - loss: 0.1489 - acc: 0.9381 - val_loss: 0.2389 - val_acc: 0.9162\n",
      "Epoch 7/100\n",
      "100/100 [==============================] - 54s 544ms/step - loss: 0.1494 - acc: 0.9428 - val_loss: 0.2103 - val_acc: 0.9264\n",
      "Epoch 8/100\n",
      "100/100 [==============================] - 51s 510ms/step - loss: 0.1225 - acc: 0.9534 - val_loss: 0.2483 - val_acc: 0.9278\n",
      "Epoch 9/100\n",
      "100/100 [==============================] - 53s 528ms/step - loss: 0.1175 - acc: 0.9537 - val_loss: 0.2488 - val_acc: 0.9201\n",
      "Epoch 10/100\n",
      "100/100 [==============================] - 54s 537ms/step - loss: 0.1245 - acc: 0.9484 - val_loss: 0.2351 - val_acc: 0.9253\n",
      "Epoch 11/100\n",
      "100/100 [==============================] - 52s 518ms/step - loss: 0.1044 - acc: 0.9575 - val_loss: 0.2486 - val_acc: 0.9182\n",
      "Epoch 12/100\n",
      "100/100 [==============================] - 52s 521ms/step - loss: 0.0971 - acc: 0.9634 - val_loss: 0.2421 - val_acc: 0.9220\n",
      "Epoch 13/100\n",
      "100/100 [==============================] - 50s 500ms/step - loss: 0.0990 - acc: 0.9616 - val_loss: 0.2415 - val_acc: 0.9298\n",
      "Epoch 14/100\n",
      "100/100 [==============================] - 51s 513ms/step - loss: 0.0855 - acc: 0.9688 - val_loss: 0.2730 - val_acc: 0.9315\n",
      "Epoch 15/100\n",
      "100/100 [==============================] - 53s 532ms/step - loss: 0.0871 - acc: 0.9644 - val_loss: 0.2397 - val_acc: 0.9317\n",
      "Epoch 16/100\n",
      "100/100 [==============================] - 53s 532ms/step - loss: 0.0839 - acc: 0.9700 - val_loss: 0.2292 - val_acc: 0.9385\n",
      "Epoch 17/100\n",
      "100/100 [==============================] - 52s 517ms/step - loss: 0.0784 - acc: 0.9687 - val_loss: 0.2294 - val_acc: 0.9214\n",
      "Epoch 18/100\n",
      "100/100 [==============================] - 52s 521ms/step - loss: 0.0722 - acc: 0.9709 - val_loss: 0.3287 - val_acc: 0.9195\n",
      "Epoch 19/100\n",
      "100/100 [==============================] - 50s 501ms/step - loss: 0.0759 - acc: 0.9731 - val_loss: 0.2376 - val_acc: 0.9277\n",
      "Epoch 20/100\n",
      "100/100 [==============================] - 51s 510ms/step - loss: 0.0732 - acc: 0.9734 - val_loss: 0.2587 - val_acc: 0.9188\n",
      "Epoch 21/100\n",
      "100/100 [==============================] - 51s 509ms/step - loss: 0.0641 - acc: 0.9750 - val_loss: 0.2501 - val_acc: 0.9270\n",
      "Epoch 22/100\n",
      "100/100 [==============================] - 52s 517ms/step - loss: 0.0697 - acc: 0.9738 - val_loss: 0.2228 - val_acc: 0.9401\n",
      "Epoch 23/100\n",
      "100/100 [==============================] - 52s 517ms/step - loss: 0.0599 - acc: 0.9747 - val_loss: 0.2443 - val_acc: 0.9315\n",
      "Epoch 24/100\n",
      "100/100 [==============================] - 50s 500ms/step - loss: 0.0632 - acc: 0.9753 - val_loss: 0.2790 - val_acc: 0.9253\n",
      "Epoch 25/100\n",
      "100/100 [==============================] - 53s 528ms/step - loss: 0.0573 - acc: 0.9788 - val_loss: 0.2392 - val_acc: 0.9258\n",
      "Epoch 26/100\n",
      "100/100 [==============================] - 51s 514ms/step - loss: 0.0556 - acc: 0.9781 - val_loss: 0.2745 - val_acc: 0.9278\n",
      "Epoch 27/100\n",
      "100/100 [==============================] - 49s 490ms/step - loss: 0.0447 - acc: 0.9822 - val_loss: 0.2678 - val_acc: 0.9381\n",
      "Epoch 28/100\n",
      "100/100 [==============================] - 49s 494ms/step - loss: 0.0484 - acc: 0.9834 - val_loss: 0.3094 - val_acc: 0.9346\n",
      "Epoch 29/100\n",
      "100/100 [==============================] - 53s 533ms/step - loss: 0.0413 - acc: 0.9847 - val_loss: 0.2505 - val_acc: 0.9343\n",
      "Epoch 30/100\n",
      "100/100 [==============================] - 52s 523ms/step - loss: 0.0487 - acc: 0.9856 - val_loss: 0.2208 - val_acc: 0.9327\n",
      "Epoch 31/100\n",
      "100/100 [==============================] - 53s 528ms/step - loss: 0.0426 - acc: 0.9841 - val_loss: 0.2751 - val_acc: 0.9323\n",
      "Epoch 32/100\n",
      "100/100 [==============================] - 51s 513ms/step - loss: 0.0369 - acc: 0.9859 - val_loss: 0.2823 - val_acc: 0.9245\n",
      "Epoch 33/100\n",
      "100/100 [==============================] - 48s 483ms/step - loss: 0.0417 - acc: 0.9850 - val_loss: 0.2746 - val_acc: 0.9298\n",
      "Epoch 34/100\n",
      "100/100 [==============================] - 52s 523ms/step - loss: 0.0452 - acc: 0.9863 - val_loss: 0.2958 - val_acc: 0.9253\n",
      "Epoch 35/100\n",
      "100/100 [==============================] - 51s 507ms/step - loss: 0.0406 - acc: 0.9859 - val_loss: 0.3073 - val_acc: 0.9251\n",
      "Epoch 36/100\n",
      "100/100 [==============================] - 51s 509ms/step - loss: 0.0424 - acc: 0.9853 - val_loss: 0.2525 - val_acc: 0.9356\n",
      "Epoch 37/100\n",
      "100/100 [==============================] - 53s 531ms/step - loss: 0.0378 - acc: 0.9859 - val_loss: 0.2957 - val_acc: 0.9340\n",
      "Epoch 38/100\n",
      "100/100 [==============================] - 49s 488ms/step - loss: 0.0326 - acc: 0.9884 - val_loss: 0.2629 - val_acc: 0.9304\n",
      "Epoch 39/100\n",
      "100/100 [==============================] - 53s 528ms/step - loss: 0.0420 - acc: 0.9841 - val_loss: 0.2715 - val_acc: 0.9365\n",
      "Epoch 40/100\n",
      "100/100 [==============================] - 52s 519ms/step - loss: 0.0293 - acc: 0.9887 - val_loss: 0.4241 - val_acc: 0.9137\n",
      "Epoch 41/100\n",
      "100/100 [==============================] - 52s 516ms/step - loss: 0.0299 - acc: 0.9906 - val_loss: 0.2542 - val_acc: 0.9353\n",
      "Epoch 42/100\n",
      "100/100 [==============================] - 52s 520ms/step - loss: 0.0305 - acc: 0.9884 - val_loss: 0.2901 - val_acc: 0.9278\n",
      "Epoch 43/100\n",
      "100/100 [==============================] - 50s 502ms/step - loss: 0.0330 - acc: 0.9897 - val_loss: 0.2973 - val_acc: 0.9375\n",
      "Epoch 44/100\n",
      "100/100 [==============================] - 51s 509ms/step - loss: 0.0352 - acc: 0.9878 - val_loss: 0.3379 - val_acc: 0.9296\n",
      "Epoch 45/100\n",
      "100/100 [==============================] - 53s 531ms/step - loss: 0.0293 - acc: 0.9900 - val_loss: 0.2491 - val_acc: 0.9452\n",
      "Epoch 46/100\n",
      "100/100 [==============================] - 54s 544ms/step - loss: 0.0357 - acc: 0.9875 - val_loss: 0.2949 - val_acc: 0.9277\n",
      "Epoch 47/100\n",
      "100/100 [==============================] - 51s 513ms/step - loss: 0.0287 - acc: 0.9881 - val_loss: 0.2814 - val_acc: 0.9343\n",
      "Epoch 48/100\n",
      "100/100 [==============================] - 52s 519ms/step - loss: 0.0273 - acc: 0.9909 - val_loss: 0.2957 - val_acc: 0.9340\n",
      "Epoch 49/100\n",
      "100/100 [==============================] - 53s 528ms/step - loss: 0.0286 - acc: 0.9897 - val_loss: 0.2914 - val_acc: 0.9375\n",
      "Epoch 50/100\n",
      "100/100 [==============================] - 52s 520ms/step - loss: 0.0322 - acc: 0.9884 - val_loss: 0.3015 - val_acc: 0.9362\n",
      "Epoch 51/100\n",
      "100/100 [==============================] - 52s 521ms/step - loss: 0.0238 - acc: 0.9909 - val_loss: 0.2717 - val_acc: 0.9410\n",
      "Epoch 52/100\n",
      "100/100 [==============================] - 53s 533ms/step - loss: 0.0295 - acc: 0.9916 - val_loss: 0.3007 - val_acc: 0.9343\n",
      "Epoch 53/100\n",
      "100/100 [==============================] - 55s 548ms/step - loss: 0.0220 - acc: 0.9919 - val_loss: 0.3125 - val_acc: 0.9327\n",
      "Epoch 54/100\n",
      "100/100 [==============================] - 49s 487ms/step - loss: 0.0214 - acc: 0.9919 - val_loss: 0.3215 - val_acc: 0.9356\n",
      "Epoch 55/100\n",
      "100/100 [==============================] - 54s 538ms/step - loss: 0.0152 - acc: 0.9944 - val_loss: 0.3405 - val_acc: 0.9378\n",
      "Epoch 56/100\n",
      "100/100 [==============================] - 53s 527ms/step - loss: 0.0348 - acc: 0.9887 - val_loss: 0.3178 - val_acc: 0.9349\n",
      "Epoch 57/100\n",
      "100/100 [==============================] - 51s 509ms/step - loss: 0.0251 - acc: 0.9925 - val_loss: 0.2966 - val_acc: 0.9353\n",
      "Epoch 58/100\n",
      "100/100 [==============================] - 52s 524ms/step - loss: 0.0212 - acc: 0.9928 - val_loss: 0.3312 - val_acc: 0.9317\n",
      "Epoch 59/100\n",
      "100/100 [==============================] - 53s 535ms/step - loss: 0.0226 - acc: 0.9922 - val_loss: 0.2880 - val_acc: 0.9420\n",
      "Epoch 60/100\n",
      "100/100 [==============================] - 55s 547ms/step - loss: 0.0187 - acc: 0.9944 - val_loss: 0.3098 - val_acc: 0.9397\n"
     ]
    },
    {
     "name": "stdout",
     "output_type": "stream",
     "text": [
      "Epoch 61/100\n",
      "100/100 [==============================] - 52s 522ms/step - loss: 0.0249 - acc: 0.9912 - val_loss: 0.3262 - val_acc: 0.9349\n",
      "Epoch 62/100\n",
      "100/100 [==============================] - 54s 536ms/step - loss: 0.0191 - acc: 0.9934 - val_loss: 0.3223 - val_acc: 0.9340\n",
      "Epoch 63/100\n",
      "100/100 [==============================] - 55s 549ms/step - loss: 0.0223 - acc: 0.9919 - val_loss: 0.2778 - val_acc: 0.9433\n",
      "Epoch 64/100\n",
      "100/100 [==============================] - 53s 534ms/step - loss: 0.0167 - acc: 0.9937 - val_loss: 0.3679 - val_acc: 0.9340\n",
      "Epoch 65/100\n",
      "100/100 [==============================] - 53s 533ms/step - loss: 0.0216 - acc: 0.9950 - val_loss: 0.2934 - val_acc: 0.9420\n",
      "Epoch 66/100\n",
      "100/100 [==============================] - 50s 505ms/step - loss: 0.0168 - acc: 0.9941 - val_loss: 0.3378 - val_acc: 0.9356\n",
      "Epoch 67/100\n",
      "100/100 [==============================] - 50s 503ms/step - loss: 0.0151 - acc: 0.9941 - val_loss: 0.4442 - val_acc: 0.9277\n",
      "Epoch 68/100\n",
      "100/100 [==============================] - 51s 505ms/step - loss: 0.0125 - acc: 0.9944 - val_loss: 0.3302 - val_acc: 0.9446\n",
      "Epoch 69/100\n",
      "100/100 [==============================] - 52s 521ms/step - loss: 0.0182 - acc: 0.9925 - val_loss: 0.3226 - val_acc: 0.9442\n",
      "Epoch 70/100\n",
      "100/100 [==============================] - 53s 535ms/step - loss: 0.0178 - acc: 0.9937 - val_loss: 0.3324 - val_acc: 0.9356\n",
      "Epoch 71/100\n",
      "100/100 [==============================] - 53s 535ms/step - loss: 0.0155 - acc: 0.9950 - val_loss: 0.2875 - val_acc: 0.9416\n",
      "Epoch 72/100\n",
      "100/100 [==============================] - 52s 515ms/step - loss: 0.0169 - acc: 0.9934 - val_loss: 0.3095 - val_acc: 0.9465\n",
      "Epoch 73/100\n",
      "100/100 [==============================] - 52s 521ms/step - loss: 0.0206 - acc: 0.9922 - val_loss: 0.3199 - val_acc: 0.9391\n",
      "Epoch 74/100\n",
      "100/100 [==============================] - 54s 541ms/step - loss: 0.0176 - acc: 0.9953 - val_loss: 0.3119 - val_acc: 0.9401\n",
      "Epoch 75/100\n",
      "100/100 [==============================] - 52s 516ms/step - loss: 0.0232 - acc: 0.9916 - val_loss: 0.3074 - val_acc: 0.9388\n",
      "Epoch 76/100\n",
      "100/100 [==============================] - 50s 497ms/step - loss: 0.0230 - acc: 0.9925 - val_loss: 0.3279 - val_acc: 0.9385\n",
      "Epoch 77/100\n",
      "100/100 [==============================] - 53s 527ms/step - loss: 0.0138 - acc: 0.9966 - val_loss: 0.2342 - val_acc: 0.9485\n",
      "Epoch 78/100\n",
      "100/100 [==============================] - 52s 524ms/step - loss: 0.0128 - acc: 0.9937 - val_loss: 0.3448 - val_acc: 0.9397\n",
      "Epoch 79/100\n",
      "100/100 [==============================] - 54s 544ms/step - loss: 0.0133 - acc: 0.9966 - val_loss: 0.3397 - val_acc: 0.9452\n",
      "Epoch 80/100\n",
      "100/100 [==============================] - 53s 526ms/step - loss: 0.0166 - acc: 0.9931 - val_loss: 0.3507 - val_acc: 0.9385\n",
      "Epoch 81/100\n",
      "100/100 [==============================] - 51s 508ms/step - loss: 0.0125 - acc: 0.9947 - val_loss: 0.3691 - val_acc: 0.9375\n",
      "Epoch 82/100\n",
      "100/100 [==============================] - 50s 498ms/step - loss: 0.0159 - acc: 0.9953 - val_loss: 0.2995 - val_acc: 0.9459\n",
      "Epoch 83/100\n",
      "100/100 [==============================] - 50s 503ms/step - loss: 0.0139 - acc: 0.9969 - val_loss: 0.3418 - val_acc: 0.9404\n",
      "Epoch 84/100\n",
      "100/100 [==============================] - 49s 492ms/step - loss: 0.0156 - acc: 0.9947 - val_loss: 0.3080 - val_acc: 0.9439\n",
      "Epoch 85/100\n",
      "100/100 [==============================] - 49s 494ms/step - loss: 0.0153 - acc: 0.9963 - val_loss: 0.3858 - val_acc: 0.9372\n",
      "Epoch 86/100\n",
      "100/100 [==============================] - 52s 522ms/step - loss: 0.0120 - acc: 0.9947 - val_loss: 0.3347 - val_acc: 0.9381\n",
      "Epoch 87/100\n",
      "100/100 [==============================] - 50s 497ms/step - loss: 0.0179 - acc: 0.9947 - val_loss: 0.3597 - val_acc: 0.9372\n",
      "Epoch 88/100\n",
      "100/100 [==============================] - 53s 531ms/step - loss: 0.0139 - acc: 0.9944 - val_loss: 0.3699 - val_acc: 0.9330\n",
      "Epoch 89/100\n",
      "100/100 [==============================] - 51s 510ms/step - loss: 0.0105 - acc: 0.9962 - val_loss: 0.3641 - val_acc: 0.9435\n",
      "Epoch 90/100\n",
      "100/100 [==============================] - 49s 487ms/step - loss: 0.0151 - acc: 0.9950 - val_loss: 0.3455 - val_acc: 0.9394\n",
      "Epoch 91/100\n",
      "100/100 [==============================] - 50s 504ms/step - loss: 0.0215 - acc: 0.9944 - val_loss: 0.3623 - val_acc: 0.9433\n",
      "Epoch 92/100\n",
      "100/100 [==============================] - 49s 495ms/step - loss: 0.0152 - acc: 0.9956 - val_loss: 0.2896 - val_acc: 0.9461\n",
      "Epoch 93/100\n",
      "100/100 [==============================] - 52s 524ms/step - loss: 0.0166 - acc: 0.9941 - val_loss: 0.3759 - val_acc: 0.9394\n",
      "Epoch 94/100\n",
      "100/100 [==============================] - 49s 487ms/step - loss: 0.0124 - acc: 0.9944 - val_loss: 0.5472 - val_acc: 0.9150\n",
      "Epoch 95/100\n",
      "100/100 [==============================] - 52s 524ms/step - loss: 0.0157 - acc: 0.9953 - val_loss: 0.3370 - val_acc: 0.9420\n",
      "Epoch 96/100\n",
      "100/100 [==============================] - 52s 520ms/step - loss: 0.0095 - acc: 0.9978 - val_loss: 0.3508 - val_acc: 0.9429\n",
      "Epoch 97/100\n",
      "100/100 [==============================] - 52s 523ms/step - loss: 0.0185 - acc: 0.9956 - val_loss: 0.3051 - val_acc: 0.9394\n",
      "Epoch 98/100\n",
      "100/100 [==============================] - 52s 518ms/step - loss: 0.0156 - acc: 0.9937 - val_loss: 0.2924 - val_acc: 0.9478\n",
      "Epoch 99/100\n",
      "100/100 [==============================] - 52s 516ms/step - loss: 0.0082 - acc: 0.9978 - val_loss: 0.3191 - val_acc: 0.9397\n",
      "Epoch 100/100\n",
      "100/100 [==============================] - 49s 490ms/step - loss: 0.0133 - acc: 0.9969 - val_loss: 0.3275 - val_acc: 0.9433\n"
     ]
    }
   ],
   "source": [
    "history = model.fit_generator(train_generator, \n",
    "                              steps_per_epoch=100, \n",
    "                              epochs=100, \n",
    "                              validation_data=validation_generator, \n",
    "                              validation_steps=50)"
   ]
  },
  {
   "cell_type": "code",
   "execution_count": 28,
   "metadata": {},
   "outputs": [
    {
     "data": {
      "image/png": "[encoded data removed]",
      "text/plain": [
       "<Figure size 432x288 with 1 Axes>"
      ]
     },
     "metadata": {
      "needs_background": "light"
     },
     "output_type": "display_data"
    },
    {
     "data": {
      "image/png": "[encoded data removed]",
      "text/plain": [
       "<Figure size 432x288 with 1 Axes>"
      ]
     },
     "metadata": {
      "needs_background": "light"
     },
     "output_type": "display_data"
    }
   ],
   "source": [
    "# plotting the training and validation loss\n",
    "%matplotlib inline\n",
    "import matplotlib.pyplot as plt\n",
    "\n",
    "history_dict = history.history\n",
    "acc = history_dict['acc']\n",
    "val_acc = history_dict['val_acc']\n",
    "loss = history_dict['loss']\n",
    "val_loss = history_dict['val_loss']\n",
    "\n",
    "epochs = range(1, len(acc) + 1)\n",
    "\n",
    "plt.plot(epochs, loss, 'bo', label='Training loss')\n",
    "plt.plot(epochs, val_loss, 'b', label='Validation loss')\n",
    "plt.title('Training and validation loss')\n",
    "plt.xlabel('Epochs')\n",
    "plt.ylabel('Loss')\n",
    "plt.legend()\n",
    "plt.show()\n",
    "\n",
    "plt.plot(epochs, acc, 'bo', label='Training acc')\n",
    "plt.plot(epochs, val_acc, 'b', label='Validation acc')\n",
    "plt.title('Training and validation accuracy')\n",
    "plt.xlabel('Epochs')\n",
    "plt.ylabel('Accuracy')\n",
    "plt.legend()\n",
    "plt.show()"
   ]
  },
  {
   "cell_type": "code",
   "execution_count": 27,
   "metadata": {},
   "outputs": [
    {
     "data": {
      "text/plain": [
       "0.9449999892711639"
      ]
     },
     "execution_count": 27,
     "metadata": {},
     "output_type": "execute_result"
    }
   ],
   "source": [
    "test_loss, test_acc = model.evaluate_generator(test_generator, steps=50)\n",
    "test_acc"
   ]
  },
  {
   "cell_type": "code",
   "execution_count": 29,
   "metadata": {},
   "outputs": [],
   "source": [
    "model.save('cats_and_dogs_small.h5')"
   ]
  },
  {
   "cell_type": "code",
   "execution_count": null,
   "metadata": {},
   "outputs": [],
   "source": []
  }
 ],
 "metadata": {
  "kernelspec": {
   "display_name": "Python 2",
   "language": "python",
   "name": "python2"
  },
  "language_info": {
   "codemirror_mode": {
    "name": "ipython",
    "version": 2
   },
   "file_extension": ".py",
   "mimetype": "text/x-python",
   "name": "python",
   "nbconvert_exporter": "python",
   "pygments_lexer": "ipython2",
   "version": "2.7.12"
  }
 },
 "nbformat": 4,
 "nbformat_minor": 2
}
